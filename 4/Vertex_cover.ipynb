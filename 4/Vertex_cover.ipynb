{
  "cells": [
    {
      "cell_type": "markdown",
      "metadata": {},
      "source": [
        "This problem attempts to improve the approximation obtained by rounding a linear program for vertex cover. As described in [WS], this is a special case of the set cover problem. In the lecture we looked at a rounding-based approximation algorithm, and noticed that it was a factor at most 2 from an optimal solution (see below).\n",
        "\n",
        "    * Argue that for every triangle in the graph, it is valid to add an extra constraint requiring at least two vertices to be selected, in the sense that it does not remove any integer feasible solution.\n",
        "\n",
        "    * Write code to add these constraints to the existing ones. You can modify the existing Python code, or build your own implementation from scratch in another language.\n",
        "    \n",
        "    * Compare the rounded solutions, as well as the lower bounds on the optimal solution, to the original implementation.\n",
        "\n",
        "You will need to implement an algorithm for computing the triangles in a graph, e.g., you could use the \"trivial algorithm\" described on page 1 of [this paper]. Note that the graphs supplied are undirected, but each edge {u, v} only appears once, either as (u,v) or as (v,u). (Extra credit: Try to make the algorithm scalable in terms of the number of edges and vertices.)\n",
        "\n",
        "You must hand in a PDF with all explanation and code. Please also provide a link to your implementation (e.g. on colab or github)."
      ]
    },
    {
      "cell_type": "code",
      "execution_count": 8,
      "metadata": {
        "id": "3chJLlHO-6mA"
      },
      "outputs": [],
      "source": [
        "# Fetch and import APX wrapper class\n",
        "!wget -q https://raw.githubusercontent.com/rasmus-pagh/apx/main/apx.py -O apx.py\n",
        "import apx\n",
        "from importlib import reload\n",
        "reload(apx)\n",
        "from apx import DataFile, LinearProgram, np"
      ]
    },
    {
      "cell_type": "markdown",
      "metadata": {
        "id": "OH612A96DyQG"
      },
      "source": [
        "## Solving a linear program and its dual"
      ]
    },
    {
      "cell_type": "code",
      "execution_count": 10,
      "metadata": {
        "colab": {
          "base_uri": "https://localhost:8080/"
        },
        "id": "TjwqTwnxrxSS",
        "outputId": "6732b03b-f2b2-4bf8-85a4-2c74e3f1b841"
      },
      "outputs": [
        {
          "name": "stdout",
          "output_type": "stream",
          "text": [
            "Maximize c x under A x <= b, x >= 0, where\n",
            "A=[[4. 1.]\n",
            " [1. 2.]]\n",
            "b=[2, 1]\n",
            "c=[1, 1]\n",
            "(0.7142857142857144, {'x1': 0.42857142857142855, 'x2': 0.2857142857142858})\n",
            "Minimize b y under A y >= c, y >= 0, where\n",
            "A=[[4. 1.]\n",
            " [1. 2.]]\n",
            "b=[2, 1]\n",
            "c=[1, 1]\n",
            "(0.7142857142857143, {'y1': 0.14285714285714285, 'y2': 0.4285714285714286})\n",
            "Maximize c x under A x <= b, x >= 0, where\n",
            "A=[[4. 1.]\n",
            " [1. 2.]]\n",
            "b=[2, 1]\n",
            "c=[1, 1]\n",
            "(0.7142857142857144, {'x1': 0.42857142857142855, 'x2': 0.2857142857142858})\n"
          ]
        }
      ],
      "source": [
        "mylp = LinearProgram('max')\n",
        "mylp.add_constraint({\"x1\": 4, \"x2\": 1}, 2)\n",
        "mylp.add_constraint(\"x1 + 2*x2\", 1)\n",
        "mylp.set_objective({\"x1\": 1, \"x2\": 1})\n",
        "print(mylp.to_string())\n",
        "print(mylp.solve())\n",
        "dual = mylp.dual()\n",
        "print(dual.to_string())\n",
        "print(dual.solve())\n",
        "print(dual.dual().to_string())\n",
        "print(dual.dual().solve())"
      ]
    },
    {
      "cell_type": "markdown",
      "metadata": {
        "id": "U3RSya3mD4S7"
      },
      "source": [
        "# Approximating vertex cover"
      ]
    },
    {
      "cell_type": "code",
      "execution_count": 74,
      "metadata": {
        "colab": {
          "base_uri": "https://localhost:8080/"
        },
        "id": "oiAfQI9ir409",
        "outputId": "d0733480-ea23-4d90-d658-47ce4de854a8"
      },
      "outputs": [
        {
          "name": "stdout",
          "output_type": "stream",
          "text": [
            "Graph: routes.txt\n",
            "LP optimal value: 5.0\n",
            "{'JFK': 0.5, 'MCO': 0.5, 'ORD': 0.5, 'DEN': 0.5, 'HOU': 0.5, 'DFW': 0.5, 'PHX': 0.5, 'ATL': 0.5, 'LAX': 0.5, 'LAS': 0.5}\n",
            "Rounded LP value: 10\n",
            "{'JFK': 1, 'MCO': 1, 'ORD': 1, 'DEN': 1, 'HOU': 1, 'DFW': 1, 'PHX': 1, 'ATL': 1, 'LAX': 1, 'LAS': 1}\n",
            "\n",
            "27 TRIANGLE(S):\n",
            "LP optimal value, triangles: 8.0\n",
            "{'JFK': 1.0, 'MCO': -0.0, 'ORD': 1.5, 'DEN': 0.5, 'HOU': 1.0, 'DFW': 0.5, 'PHX': 0.5, 'ATL': 1.0, 'LAX': 0.5, 'LAS': 1.5}\n",
            "Rounded LP value, triangles: 11\n",
            "{'JFK': 1, 'MCO': 0, 'ORD': 2, 'DEN': 1, 'HOU': 1, 'DFW': 1, 'PHX': 1, 'ATL': 1, 'LAX': 1, 'LAS': 2}\n",
            "\n",
            "Graph: petersen.txt\n",
            "LP optimal value: 5.0\n",
            "{'A': 0.5, 'B': 0.5, 'C': 0.5, 'D': 0.5, 'E': 0.5, '1': 0.5, '3': 0.5, '5': 0.5, '2': 0.5, '4': 0.5}\n",
            "Rounded LP value: 10\n",
            "{'A': 1, 'B': 1, 'C': 1, 'D': 1, 'E': 1, '1': 1, '3': 1, '5': 1, '2': 1, '4': 1}\n",
            "Graph: petersenstar.txt\n",
            "LP optimal value: 6.0\n",
            "{'A': 0.5, 'B': 0.5, 'C': 0.5, 'D': 0.5, 'E': 0.5, '1': 0.5, '3': 0.5, '5': 0.5, '2': 0.5, '4': 0.5, '10': 1.0, '11': 0.0, '12': 0.0, '13': 0.0, '14': 0.0, '15': 0.0, '16': 0.0, '17': 0.0, '18': 0.0}\n",
            "Rounded LP value: 11\n",
            "{'A': 1, 'B': 1, 'C': 1, 'D': 1, 'E': 1, '1': 1, '3': 1, '5': 1, '2': 1, '4': 1, '10': 1, '11': 0, '12': 0, '13': 0, '14': 0, '15': 0, '16': 0, '17': 0, '18': 0}\n",
            "Graph: star.txt\n",
            "LP optimal value: 1.0\n",
            "{'1': 1.0, '2': 0.0, '3': 0.0, '4': 0.0, '5': 0.0, '6': 0.0, '7': 0.0, '8': 0.0, '9': 0.0}\n",
            "Rounded LP value: 1\n",
            "{'1': 1, '2': 0, '3': 0, '4': 0, '5': 0, '6': 0, '7': 0, '8': 0, '9': 0}\n",
            "Graph: clique.txt\n",
            "LP optimal value: 2.5\n",
            "{'1': 0.5, '2': 0.5, '3': 0.5, '4': 0.5, '5': 0.5}\n",
            "Rounded LP value: 5\n",
            "{'1': 1, '2': 1, '3': 1, '4': 1, '5': 1}\n",
            "\n",
            "15 TRIANGLE(S):\n",
            "LP optimal value, triangles: 3.0\n",
            "{'1': 1.0, '2': 0.5, '3': 0.5, '4': 0.5, '5': 0.5}\n",
            "Rounded LP value, triangles: 5\n",
            "{'1': 1, '2': 1, '3': 1, '4': 1, '5': 1}\n",
            "\n",
            "Graph: cycles.txt\n",
            "LP optimal value: 3.5\n",
            "{'1': 0.5, '2': 0.5, '3': 0.5, '4': -0.0, '5': 1.0, '6': 0.0, '7': 1.0}\n",
            "Rounded LP value: 5\n",
            "{'1': 1, '2': 1, '3': 1, '4': 0, '5': 1, '6': 0, '7': 1}\n",
            "\n",
            "1 TRIANGLE(S):\n",
            "LP optimal value, triangles: 4.0\n",
            "{'1': 1.0, '2': 0.0, '3': 1.0, '4': 1.0, '5': -0.0, '6': 1.0, '7': 0.0}\n",
            "Rounded LP value, triangles: 4\n",
            "{'1': 1, '2': 0, '3': 1, '4': 1, '5': 0, '6': 1, '7': 0}\n",
            "\n",
            "Graph: lotr.txt\n",
            "LP optimal value: 31.5\n",
            "{'Bilbo_Baggins': 1.0, 'Gandalf': 1.0, 'Thorin_Oakenshield': 0.0, 'Gollum': 1.0, 'Elrond_Peredhil': 0.5, 'Frodo_Baggins': 1.0, 'Hamfast_Gamgee': 0.5, 'Daddy_Twofoot': 0.5, 'Old_Noakes': 0.5, 'Sandyman': 0.5, 'Esmeralda_Took': 0.5, 'Rory_Brandybuck': 0.5, 'Odo_Proudfoot': 0.5, 'Everard_Took': 0.5, 'Melitot_Brandybuck': 0.5, 'Gold-berry': 0.0, 'Hugo_Bracegirdle': 0.0, 'Angelica_Baggins': 0.0, 'Milo_Burrows': 0.0, 'Dora_Baggins': 0.0, 'Adelard_Took': 0.0, 'Otho_Sackville-Baggins': -0.0, 'Meriadoc_Brandybuck': 1.0, 'Lobelia_Sackville-Baggins': 1.0, 'Sancho_Proudfoot': 0.0, 'Samwise_Gamgee': 1.0, 'Ted_Sandyman': 0.0, 'Aragorn_Elessar': 0.5, 'Deagol': 0.0, 'Fredegar_Bolger': 0.5, 'Folco_Boffin': 0.5, 'Peregrin_Took': 1.0, 'Lotho_Sackville-Baggins': 0.0, 'Nazgûl': 0.5, 'Gildor_Inglorion': 0.0, 'Maggot': 0.5, 'Tom_Bombadil': 1.0, 'Old_Man_Willow': -0.0, 'Bob': 0.5, 'Barliman_Butterbur': 0.5, 'Nob': 0.5, 'Bill_Ferny': 0.5, 'Lord_of_the_Nazgûl': 0.5, 'Glorfindel_of_Rivendell': 0.5, 'Gothmog': 0.5, 'Arwen_Evenstar': 0.5, 'Glóin': 0.5, 'Lindir': 0.5, 'Gimli': 0.5, 'Erestor': 0.5, 'Galdor': 0.5, 'Legolas_Greenleaf': 0.5, 'Boromir': 0.5, 'Saruman': 1.0, 'Radagast': 0.0, 'Gwaihir': 0.0, 'Elendil': 0.5, 'Gil-galad': 0.5, 'Isildur': 1.0, 'Anarion': 0.5, 'Valandil': 0.5, 'Sauron': 0.0, 'Elladan': 0.5, 'Elrohir': 0.5, 'Watcher_in_the_Water': 0.0, \"Durin's_Bane\": 0.0, 'Haldir': 0.5, 'Rumil': 0.5, 'Orophin': 0.5, 'Celeborn': 0.5, 'Galadriel': 0.5}\n",
            "Rounded LP value: 52\n",
            "{'Bilbo_Baggins': 1, 'Gandalf': 1, 'Thorin_Oakenshield': 0, 'Gollum': 1, 'Elrond_Peredhil': 1, 'Frodo_Baggins': 1, 'Hamfast_Gamgee': 1, 'Daddy_Twofoot': 1, 'Old_Noakes': 1, 'Sandyman': 1, 'Esmeralda_Took': 1, 'Rory_Brandybuck': 1, 'Odo_Proudfoot': 1, 'Everard_Took': 1, 'Melitot_Brandybuck': 1, 'Gold-berry': 0, 'Hugo_Bracegirdle': 0, 'Angelica_Baggins': 0, 'Milo_Burrows': 0, 'Dora_Baggins': 0, 'Adelard_Took': 0, 'Otho_Sackville-Baggins': 0, 'Meriadoc_Brandybuck': 1, 'Lobelia_Sackville-Baggins': 1, 'Sancho_Proudfoot': 0, 'Samwise_Gamgee': 1, 'Ted_Sandyman': 0, 'Aragorn_Elessar': 1, 'Deagol': 0, 'Fredegar_Bolger': 1, 'Folco_Boffin': 1, 'Peregrin_Took': 1, 'Lotho_Sackville-Baggins': 0, 'Nazgûl': 1, 'Gildor_Inglorion': 0, 'Maggot': 1, 'Tom_Bombadil': 1, 'Old_Man_Willow': 0, 'Bob': 1, 'Barliman_Butterbur': 1, 'Nob': 1, 'Bill_Ferny': 1, 'Lord_of_the_Nazgûl': 1, 'Glorfindel_of_Rivendell': 1, 'Gothmog': 1, 'Arwen_Evenstar': 1, 'Glóin': 1, 'Lindir': 1, 'Gimli': 1, 'Erestor': 1, 'Galdor': 1, 'Legolas_Greenleaf': 1, 'Boromir': 1, 'Saruman': 1, 'Radagast': 0, 'Gwaihir': 0, 'Elendil': 1, 'Gil-galad': 1, 'Isildur': 1, 'Anarion': 1, 'Valandil': 1, 'Sauron': 0, 'Elladan': 1, 'Elrohir': 1, 'Watcher_in_the_Water': 0, \"Durin's_Bane\": 0, 'Haldir': 1, 'Rumil': 1, 'Orophin': 1, 'Celeborn': 1, 'Galadriel': 1}\n",
            "\n",
            "991 TRIANGLE(S):\n",
            "LP optimal value, triangles: 47.0\n",
            "{'Bilbo_Baggins': 1.5, 'Gandalf': 1.0, 'Thorin_Oakenshield': 0.0, 'Gollum': 1.0, 'Elrond_Peredhil': 1.0, 'Frodo_Baggins': 1.5, 'Hamfast_Gamgee': 1.0, 'Daddy_Twofoot': 0.5, 'Old_Noakes': 0.5, 'Sandyman': 0.5, 'Esmeralda_Took': 1.0, 'Rory_Brandybuck': 0.5, 'Odo_Proudfoot': 0.5, 'Everard_Took': 0.5, 'Melitot_Brandybuck': 0.5, 'Gold-berry': 1.0, 'Hugo_Bracegirdle': 0.0, 'Angelica_Baggins': 0.0, 'Milo_Burrows': 0.0, 'Dora_Baggins': 0.0, 'Adelard_Took': 0.0, 'Otho_Sackville-Baggins': 0.0, 'Meriadoc_Brandybuck': 1.0, 'Lobelia_Sackville-Baggins': 1.0, 'Sancho_Proudfoot': 0.0, 'Samwise_Gamgee': 1.0, 'Ted_Sandyman': 0.0, 'Aragorn_Elessar': 1.0, 'Deagol': 0.0, 'Fredegar_Bolger': 1.0, 'Folco_Boffin': 1.0, 'Peregrin_Took': 1.0, 'Lotho_Sackville-Baggins': 1.0, 'Nazgûl': 1.0, 'Gildor_Inglorion': 0.5, 'Maggot': 0.0, 'Tom_Bombadil': 1.0, 'Old_Man_Willow': 0.0, 'Bob': 1.0, 'Barliman_Butterbur': 1.0, 'Nob': 1.0, 'Bill_Ferny': 1.0, 'Lord_of_the_Nazgûl': 1.0, 'Glorfindel_of_Rivendell': 1.0, 'Gothmog': 1.0, 'Arwen_Evenstar': 1.0, 'Glóin': 1.0, 'Lindir': 0.5, 'Gimli': 1.0, 'Erestor': 1.0, 'Galdor': -0.0, 'Legolas_Greenleaf': 1.0, 'Boromir': 1.0, 'Saruman': 1.0, 'Radagast': 0.0, 'Gwaihir': 0.0, 'Elendil': 1.0, 'Gil-galad': 0.5, 'Isildur': 1.0, 'Anarion': 0.5, 'Valandil': 0.5, 'Sauron': 0.0, 'Elladan': 0.0, 'Elrohir': 1.0, 'Watcher_in_the_Water': 0.0, \"Durin's_Bane\": 0.0, 'Haldir': 1.0, 'Rumil': 1.0, 'Orophin': 1.0, 'Celeborn': 1.0, 'Galadriel': 1.0}\n",
            "Rounded LP value, triangles: 54\n",
            "{'Bilbo_Baggins': 2, 'Gandalf': 1, 'Thorin_Oakenshield': 0, 'Gollum': 1, 'Elrond_Peredhil': 1, 'Frodo_Baggins': 2, 'Hamfast_Gamgee': 1, 'Daddy_Twofoot': 1, 'Old_Noakes': 1, 'Sandyman': 1, 'Esmeralda_Took': 1, 'Rory_Brandybuck': 1, 'Odo_Proudfoot': 1, 'Everard_Took': 1, 'Melitot_Brandybuck': 1, 'Gold-berry': 1, 'Hugo_Bracegirdle': 0, 'Angelica_Baggins': 0, 'Milo_Burrows': 0, 'Dora_Baggins': 0, 'Adelard_Took': 0, 'Otho_Sackville-Baggins': 0, 'Meriadoc_Brandybuck': 1, 'Lobelia_Sackville-Baggins': 1, 'Sancho_Proudfoot': 0, 'Samwise_Gamgee': 1, 'Ted_Sandyman': 0, 'Aragorn_Elessar': 1, 'Deagol': 0, 'Fredegar_Bolger': 1, 'Folco_Boffin': 1, 'Peregrin_Took': 1, 'Lotho_Sackville-Baggins': 1, 'Nazgûl': 1, 'Gildor_Inglorion': 1, 'Maggot': 0, 'Tom_Bombadil': 1, 'Old_Man_Willow': 0, 'Bob': 1, 'Barliman_Butterbur': 1, 'Nob': 1, 'Bill_Ferny': 1, 'Lord_of_the_Nazgûl': 1, 'Glorfindel_of_Rivendell': 1, 'Gothmog': 1, 'Arwen_Evenstar': 1, 'Glóin': 1, 'Lindir': 1, 'Gimli': 1, 'Erestor': 1, 'Galdor': 0, 'Legolas_Greenleaf': 1, 'Boromir': 1, 'Saruman': 1, 'Radagast': 0, 'Gwaihir': 0, 'Elendil': 1, 'Gil-galad': 1, 'Isildur': 1, 'Anarion': 1, 'Valandil': 1, 'Sauron': 0, 'Elladan': 0, 'Elrohir': 1, 'Watcher_in_the_Water': 0, \"Durin's_Bane\": 0, 'Haldir': 1, 'Rumil': 1, 'Orophin': 1, 'Celeborn': 1, 'Galadriel': 1}\n",
            "\n",
            "Graph: karate.txt\n",
            "LP optimal value: 13.5\n",
            "{'2': 1.0, '1': 1.0, '3': 1.0, '4': 1.0, '5': 0.5, '6': 0.5, '7': 0.5, '8': 0.0, '9': 1.0, '10': -0.0, '11': 0.5, '12': 0.0, '13': 0.0, '14': 0.0, '17': 0.5, '18': 0.0, '20': 0.0, '22': 0.0, '26': -0.0, '24': 1.0, '25': 1.0, '28': -0.0, '29': -0.0, '30': 0.0, '27': 1.0, '31': -0.0, '32': 1.0, '33': 1.0, '15': -0.0, '16': 0.0, '19': 0.0, '21': 0.0, '23': 0.0, '34': 1.0}\n",
            "Rounded LP value: 16\n",
            "{'2': 1, '1': 1, '3': 1, '4': 1, '5': 1, '6': 1, '7': 1, '8': 0, '9': 1, '10': 0, '11': 1, '12': 0, '13': 0, '14': 0, '17': 1, '18': 0, '20': 0, '22': 0, '26': 0, '24': 1, '25': 1, '28': 0, '29': 0, '30': 0, '27': 1, '31': 0, '32': 1, '33': 1, '15': 0, '16': 0, '19': 0, '21': 0, '23': 0, '34': 1}\n",
            "\n",
            "208 TRIANGLE(S):\n",
            "LP optimal value, triangles: 22.0\n",
            "{'2': 2.0, '1': 2.0, '3': 2.0, '4': 2.0, '5': 1.0, '6': 1.0, '7': 1.0, '8': -0.0, '9': 0.5, '10': 0.0, '11': 1.0, '12': 0.0, '13': 0.0, '14': 0.0, '17': 1.0, '18': 0.0, '20': 0.0, '22': 0.0, '26': 0.5, '24': 0.5, '25': 0.5, '28': 0.5, '29': 0.0, '30': 0.5, '27': 0.5, '31': 0.5, '32': 1.5, '33': 1.5, '15': 0.0, '16': 0.0, '19': 0.0, '21': 0.0, '23': 0.0, '34': 2.0}\n",
            "Rounded LP value, triangles: 27\n",
            "{'2': 2, '1': 2, '3': 2, '4': 2, '5': 1, '6': 1, '7': 1, '8': 0, '9': 1, '10': 0, '11': 1, '12': 0, '13': 0, '14': 0, '17': 1, '18': 0, '20': 0, '22': 0, '26': 1, '24': 1, '25': 1, '28': 1, '29': 0, '30': 1, '27': 1, '31': 1, '32': 2, '33': 2, '15': 0, '16': 0, '19': 0, '21': 0, '23': 0, '34': 2}\n",
            "\n",
            "Graph: noisybiclique.txt\n",
            "LP optimal value: 21.0\n",
            "{'0': 0.5, '1': 0.5, '3': 0.5, '5': 0.5, '8': 0.5, '9': 0.5, '11': 0.5, '13': 0.5, '15': 0.5, '20': 0.5, '21': 0.5, '22': 0.5, '23': 0.5, '25': 0.5, '28': 0.5, '30': 0.5, '35': 0.5, '37': 0.5, '39': 0.5, '2': 0.5, '4': 0.5, '12': 0.5, '14': 0.5, '16': 0.5, '19': 0.5, '24': 0.5, '26': 0.5, '27': 0.5, '31': 0.5, '32': 0.5, '36': 0.5, '38': 0.5, '40': 0.5, '41': 0.5, '6': 0.5, '10': 0.5, '17': 0.5, '33': 0.5, '18': 0.5, '29': 0.5, '34': 0.5, '7': 0.5}\n",
            "Rounded LP value: 42\n",
            "{'0': 1, '1': 1, '3': 1, '5': 1, '8': 1, '9': 1, '11': 1, '13': 1, '15': 1, '20': 1, '21': 1, '22': 1, '23': 1, '25': 1, '28': 1, '30': 1, '35': 1, '37': 1, '39': 1, '2': 1, '4': 1, '12': 1, '14': 1, '16': 1, '19': 1, '24': 1, '26': 1, '27': 1, '31': 1, '32': 1, '36': 1, '38': 1, '40': 1, '41': 1, '6': 1, '10': 1, '17': 1, '33': 1, '18': 1, '29': 1, '34': 1, '7': 1}\n",
            "\n",
            "871 TRIANGLE(S):\n",
            "LP optimal value, triangles: 28.000000000000014\n",
            "{'0': 0.6666666666666665, '1': 0.6666666666666669, '3': 0.6666666666666666, '5': 0.6666666666666666, '8': 0.6666666666666667, '9': 0.6666666666666667, '11': 0.6666666666666669, '13': 0.6666666666666667, '15': 0.6666666666666664, '20': 0.6666666666666665, '21': 0.6666666666666666, '22': 0.6666666666666666, '23': 0.6666666666666669, '25': 0.6666666666666665, '28': 0.6666666666666667, '30': 0.6666666666666664, '35': 0.6666666666666667, '37': 0.6666666666666667, '39': 0.6666666666666664, '2': 0.6666666666666664, '4': 0.6666666666666666, '12': 0.6666666666666669, '14': 0.6666666666666666, '16': 0.6666666666666665, '19': 0.6666666666666665, '24': 0.6666666666666666, '26': 0.6666666666666667, '27': 0.6666666666666666, '31': 0.6666666666666667, '32': 0.6666666666666667, '36': 0.6666666666666667, '38': 0.6666666666666666, '40': 0.6666666666666666, '41': 0.6666666666666666, '6': 0.6666666666666666, '10': 0.6666666666666667, '17': 0.6666666666666666, '33': 0.6666666666666669, '18': 0.6666666666666667, '29': 0.6666666666666666, '34': 0.6666666666666669, '7': 0.6666666666666664}\n",
            "Rounded LP value, triangles: 42\n",
            "{'0': 1, '1': 1, '3': 1, '5': 1, '8': 1, '9': 1, '11': 1, '13': 1, '15': 1, '20': 1, '21': 1, '22': 1, '23': 1, '25': 1, '28': 1, '30': 1, '35': 1, '37': 1, '39': 1, '2': 1, '4': 1, '12': 1, '14': 1, '16': 1, '19': 1, '24': 1, '26': 1, '27': 1, '31': 1, '32': 1, '36': 1, '38': 1, '40': 1, '41': 1, '6': 1, '10': 1, '17': 1, '33': 1, '18': 1, '29': 1, '34': 1, '7': 1}\n",
            "\n"
          ]
        }
      ],
      "source": [
        "def trivial_triangle_enum(graph):\n",
        "  edges = list(graph)\n",
        "  triangles = set()\n",
        "  covered_edges = set()\n",
        "  for (u,v) in edges:\n",
        "    for (up, vp) in edges:\n",
        "      if up in [u, v] or vp in [u, v]:\n",
        "        if (up, vp) != (u,v):  \n",
        "          for (upp, vpp) in edges:\n",
        "            if (upp in [u, v, up, vp]) and (vpp in [u, v, up, vp]):\n",
        "              if (upp, vpp) not in ((up, vp), (u,v)):\n",
        "                  if not ((u,v) in covered_edges and (up,vp) in covered_edges and (upp,vpp) in covered_edges):\n",
        "                    triangles.add(((u,v),(up,vp),(upp,vpp)))\n",
        "                    covered_edges.add((u,v))\n",
        "                    covered_edges.add((v,vp))\n",
        "                    covered_edges.add((vp,u))\n",
        "  return triangles\n",
        "    \n",
        "\n",
        "for filename in DataFile.graph_files:\n",
        "  graph = DataFile(filename)\n",
        "  graph_copy = DataFile(filename)\n",
        "  triangles = trivial_triangle_enum(graph_copy)\n",
        "  vertex_cover_lp = LinearProgram('min')\n",
        "  objective = {}\n",
        "  for (u,v) in graph:\n",
        "    vertex_cover_lp.add_constraint({u: 1, v: 1}, 1)\n",
        "    objective[u] = 1.0\n",
        "    objective[v] = 1.0\n",
        "  vertex_cover_lp.set_objective(objective)\n",
        "  value, solution = vertex_cover_lp.solve()\n",
        "  rounded_value, rounded_solution = 0, {}\n",
        "  for x in solution:\n",
        "    r = int(np.round(solution[x] + 1e-10))\n",
        "    # Add small constant to deal with numerical issues for numbers close to 1/2\n",
        "    rounded_solution[x] = r\n",
        "    rounded_value += r\n",
        "\n",
        "  print(f'Graph: {filename}')\n",
        "  print(f'LP optimal value: {value}\\n{solution}')\n",
        "  print(f'Rounded LP value: {rounded_value}\\n{rounded_solution}')\n",
        "  \n",
        "  if triangles:\n",
        "    print(f\"\\n{len(triangles)} TRIANGLE(S):\")  \n",
        "    for ((u,v),(v,x),(x,u)) in triangles:\n",
        "      vertex_cover_lp.add_constraint({u: 1, v: 1, x: 1}, 2)\n",
        "    value, solution = vertex_cover_lp.solve()\n",
        "    rounded_value, rounded_solution = 0, {}\n",
        "    for x in solution:\n",
        "      r = int(np.round(solution[x] + 1e-10))\n",
        "      # Add small constant to deal with numerical issues for numbers close to 1/2\n",
        "      rounded_solution[x] = r\n",
        "      rounded_value += r\n",
        "    print(f'LP optimal value, triangles: {value}\\n{solution}')\n",
        "    print(f'Rounded LP value, triangles: {rounded_value}\\n{rounded_solution}\\n')"
      ]
    }
  ],
  "metadata": {
    "colab": {
      "provenance": []
    },
    "kernelspec": {
      "display_name": "Python 3",
      "name": "python3"
    },
    "language_info": {
      "codemirror_mode": {
        "name": "ipython",
        "version": 3
      },
      "file_extension": ".py",
      "mimetype": "text/x-python",
      "name": "python",
      "nbconvert_exporter": "python",
      "pygments_lexer": "ipython3",
      "version": "3.12.3"
    }
  },
  "nbformat": 4,
  "nbformat_minor": 0
}
